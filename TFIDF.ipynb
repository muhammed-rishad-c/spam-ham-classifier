{
 "cells": [
  {
   "cell_type": "code",
   "execution_count": 1,
   "id": "88328b7a",
   "metadata": {},
   "outputs": [],
   "source": [
    "import pandas as pd\n",
    "messages=pd.read_csv('data\\SMSSpamCollection.txt',sep='\\t',names=['label','message'])\n"
   ]
  },
  {
   "cell_type": "code",
   "execution_count": 2,
   "id": "1a6ac317",
   "metadata": {},
   "outputs": [
    {
     "name": "stderr",
     "output_type": "stream",
     "text": [
      "[nltk_data] Downloading package stopwords to C:\\Users\\Rishad\n",
      "[nltk_data]     R\\AppData\\Roaming\\nltk_data...\n",
      "[nltk_data]   Package stopwords is already up-to-date!\n"
     ]
    },
    {
     "data": {
      "text/plain": [
       "True"
      ]
     },
     "execution_count": 2,
     "metadata": {},
     "output_type": "execute_result"
    }
   ],
   "source": [
    "import re\n",
    "import nltk\n",
    "\n",
    "nltk.download('stopwords')"
   ]
  },
  {
   "cell_type": "code",
   "execution_count": 3,
   "id": "68c88947",
   "metadata": {},
   "outputs": [],
   "source": [
    "from nltk.corpus import stopwords\n",
    "from nltk.stem import SnowballStemmer\n",
    "\n",
    "stemmer=SnowballStemmer(language='english')"
   ]
  },
  {
   "cell_type": "code",
   "execution_count": 4,
   "id": "e5e80ba6",
   "metadata": {},
   "outputs": [],
   "source": [
    "corpus=[]\n",
    "\n",
    "for i in range(len(messages)):\n",
    "    review=re.sub('[^a-zA-Z]',' ',messages['message'][i])\n",
    "    review=review.lower()\n",
    "    review=review.split()\n",
    "    \n",
    "    review=[stemmer.stem(word) for word in review if word not in stopwords.words('english')]\n",
    "    review=' '.join(review)\n",
    "    corpus.append(review)"
   ]
  },
  {
   "cell_type": "code",
   "execution_count": 5,
   "id": "20dda512",
   "metadata": {},
   "outputs": [],
   "source": [
    "from sklearn.feature_extraction.text import TfidfVectorizer\n",
    "\n",
    "tfid=TfidfVectorizer(max_features=2500,ngram_range=(1,2))"
   ]
  },
  {
   "cell_type": "code",
   "execution_count": 6,
   "id": "24bb694c",
   "metadata": {},
   "outputs": [],
   "source": [
    "x=tfid.fit_transform(corpus).toarray()"
   ]
  },
  {
   "cell_type": "code",
   "execution_count": 7,
   "id": "4d0ce92f",
   "metadata": {},
   "outputs": [],
   "source": [
    "y=pd.get_dummies(messages['label'])"
   ]
  },
  {
   "cell_type": "code",
   "execution_count": 8,
   "id": "f7300fe1",
   "metadata": {},
   "outputs": [],
   "source": [
    "y=y.iloc[:,1]\n",
    "y=y.replace(False,0)"
   ]
  },
  {
   "cell_type": "code",
   "execution_count": 9,
   "id": "c8c2459f",
   "metadata": {},
   "outputs": [
    {
     "name": "stderr",
     "output_type": "stream",
     "text": [
      "C:\\Users\\Rishad R\\AppData\\Local\\Temp\\ipykernel_19036\\2897862656.py:1: FutureWarning: Downcasting behavior in `replace` is deprecated and will be removed in a future version. To retain the old behavior, explicitly call `result.infer_objects(copy=False)`. To opt-in to the future behavior, set `pd.set_option('future.no_silent_downcasting', True)`\n",
      "  y=y.replace(True,1)\n"
     ]
    }
   ],
   "source": [
    "y=y.replace(True,1)"
   ]
  },
  {
   "cell_type": "code",
   "execution_count": 10,
   "id": "baf6eaec",
   "metadata": {},
   "outputs": [],
   "source": [
    "from sklearn.model_selection import train_test_split\n",
    "\n",
    "x_train,x_test,y_train,y_test=train_test_split(x,y,test_size=0.20)"
   ]
  },
  {
   "cell_type": "code",
   "execution_count": 11,
   "id": "7001ea80",
   "metadata": {},
   "outputs": [],
   "source": [
    "from sklearn.naive_bayes import MultinomialNB\n",
    "\n",
    "spam_detect_model=MultinomialNB().fit(x_train,y_train)"
   ]
  },
  {
   "cell_type": "code",
   "execution_count": 12,
   "id": "9b04dae6",
   "metadata": {},
   "outputs": [
    {
     "data": {
      "text/plain": [
       "(0.9757847533632287,\n",
       " '              precision    recall  f1-score   support\\n\\n           0       1.00      0.97      0.99       987\\n           1       0.83      0.99      0.90       128\\n\\n    accuracy                           0.98      1115\\n   macro avg       0.91      0.98      0.95      1115\\nweighted avg       0.98      0.98      0.98      1115\\n')"
      ]
     },
     "execution_count": 12,
     "metadata": {},
     "output_type": "execute_result"
    }
   ],
   "source": [
    "y_pred=spam_detect_model.predict(x_test)\n",
    "from sklearn.metrics import accuracy_score,classification_report\n",
    "\n",
    "accuracy=accuracy_score(y_pred,y_test)\n",
    "classifactionreport=classification_report(y_pred,y_test)\n",
    "accuracy,classifactionreport"
   ]
  },
  {
   "cell_type": "code",
   "execution_count": null,
   "id": "03efc543",
   "metadata": {},
   "outputs": [],
   "source": []
  }
 ],
 "metadata": {
  "kernelspec": {
   "display_name": "Python 3",
   "language": "python",
   "name": "python3"
  },
  "language_info": {
   "codemirror_mode": {
    "name": "ipython",
    "version": 3
   },
   "file_extension": ".py",
   "mimetype": "text/x-python",
   "name": "python",
   "nbconvert_exporter": "python",
   "pygments_lexer": "ipython3",
   "version": "3.10.0"
  }
 },
 "nbformat": 4,
 "nbformat_minor": 5
}
